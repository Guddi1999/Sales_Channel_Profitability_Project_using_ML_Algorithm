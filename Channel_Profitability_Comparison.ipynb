{
  "nbformat": 4,
  "nbformat_minor": 0,
  "metadata": {
    "colab": {
      "provenance": [],
      "include_colab_link": true
    },
    "kernelspec": {
      "name": "python3",
      "display_name": "Python 3"
    },
    "language_info": {
      "name": "python"
    }
  },
  "cells": [
    {
      "cell_type": "markdown",
      "metadata": {
        "id": "view-in-github",
        "colab_type": "text"
      },
      "source": [
        "<a href=\"https://colab.research.google.com/github/Guddi1999/Sales_Channel_Profitability_Project_using_ML_Algorithm/blob/main/Channel_Profitability_Comparison.ipynb\" target=\"_parent\"><img src=\"https://colab.research.google.com/assets/colab-badge.svg\" alt=\"Open In Colab\"/></a>"
      ]
    },
    {
      "cell_type": "markdown",
      "source": [
        "***Sales Channel Profitability Comparison ***"
      ],
      "metadata": {
        "id": "_xZrCY1JJBrZ"
      }
    },
    {
      "cell_type": "markdown",
      "source": [
        "Summary data of three distribution channels — Online, Retail, and Wholesale — with the following features:\n",
        "\n",
        "Category\n",
        "\n",
        "Average of Profit_Margin_%\n",
        "\n",
        "Average of Customer_Rating\n",
        "\n",
        "Since this is already aggregated (pivoted) data, my goal isn't to build a predictive model in the traditional sense (like predicting future profit margins from raw data), but rather to:\n",
        "\n",
        "📊 Perform comparative analysis and possibly cluster the channels to identify performance patterns.\n",
        "\n",
        "\n"
      ],
      "metadata": {
        "id": "AWLOQSZxJtx1"
      }
    },
    {
      "cell_type": "markdown",
      "source": [
        "**Loaded the Excel Data and converted the Pivot Table into Tabular Data Table**"
      ],
      "metadata": {
        "id": "9q71d0yXK31s"
      }
    },
    {
      "cell_type": "code",
      "source": [
        "import pandas as pd\n",
        "import numpy as np\n",
        "import seaborn as sns\n",
        "import matplotlib.pyplot as plt\n",
        "import plotly.express as px\n",
        "\n",
        "\n"
      ],
      "metadata": {
        "id": "gwIAZ9eTJQAi"
      },
      "execution_count": null,
      "outputs": []
    },
    {
      "cell_type": "code",
      "source": [
        "import pandas as pd\n",
        "\n",
        "# Step 1: Load the Excel file\n",
        "file_path = '/content/Pivot Data.xlsx'  # Make sure this file is in the same folder as the script\n",
        "df_raw = pd.read_excel(file_path, sheet_name='Pivot Data')\n",
        "\n",
        "# Step 2: Initialize the list to store cleaned rows\n",
        "cleaned_rows = []\n",
        "current_category = None\n",
        "\n",
        "# Step 3: Loop through the pivot rows and build the cleaned dataset\n",
        "for index, row in df_raw.iterrows():\n",
        "    row_label = row['Row Labels']\n",
        "    profit = row['Average Profit_Margin']\n",
        "    rating = row['Average of Customer_Rating']\n",
        "\n",
        "    if pd.isna(profit) and pd.isna(rating):\n",
        "        continue  # Skip empty rows\n",
        "\n",
        "    # Detect category rows\n",
        "    if row_label in ['Beverages', 'Home Care', 'Personal Care', 'Snacks']:\n",
        "        current_category = row_label\n",
        "    elif row_label == 'Grand Total':\n",
        "        continue  # Skip total row\n",
        "    else:\n",
        "        # This is a channel under a category\n",
        "        cleaned_rows.append({\n",
        "            'Category': current_category,\n",
        "            'Channel': row_label,\n",
        "            'Avg_Profit_Margin': profit,\n",
        "            'Avg_Customer_Rating': rating\n",
        "        })\n",
        "\n",
        "# Step 4: Create DataFrame and export to Excel and CSV\n",
        "df_cleaned = pd.DataFrame(cleaned_rows)\n",
        "\n",
        "# Save as Excel and CSV\n",
        "df_cleaned.to_excel('cleaned_channel_profitability.xlsx', index=False)\n",
        "df_cleaned.to_csv('cleaned_channel_profitability.csv', index=False)\n",
        "\n",
        "print(\"Data cleaned and saved as 'cleaned_channel_profitability.xlsx' and '.csv'\")\n"
      ],
      "metadata": {
        "colab": {
          "base_uri": "https://localhost:8080/"
        },
        "id": "xEB2tf4HRI6N",
        "outputId": "a7324c3f-c537-47fe-a64f-614c750a556c"
      },
      "execution_count": null,
      "outputs": [
        {
          "output_type": "stream",
          "name": "stdout",
          "text": [
            "Data cleaned and saved as 'cleaned_channel_profitability.xlsx' and '.csv'\n"
          ]
        }
      ]
    },
    {
      "cell_type": "markdown",
      "source": [
        "**Model Building in Python**"
      ],
      "metadata": {
        "id": "0d31FNbaK8AS"
      }
    },
    {
      "cell_type": "code",
      "source": [
        "import pandas as pd\n",
        "from sklearn.preprocessing import StandardScaler\n",
        "from sklearn.cluster import KMeans\n",
        "import matplotlib.pyplot as plt\n"
      ],
      "metadata": {
        "id": "RqCGDKzJXlFC"
      },
      "execution_count": null,
      "outputs": []
    },
    {
      "cell_type": "markdown",
      "source": [
        "**Loading the Cleaned Data**\n",
        "\n",
        "Here is the tabular data with zero null values and duplicate values"
      ],
      "metadata": {
        "id": "g-i_dW9eXwxg"
      }
    },
    {
      "cell_type": "code",
      "source": [
        "df = pd.read_csv('/content/cleaned_channel_profitability.csv')\n",
        "df\n"
      ],
      "metadata": {
        "colab": {
          "base_uri": "https://localhost:8080/",
          "height": 425
        },
        "id": "HdLCn_Z0Xthp",
        "outputId": "ae1c3583-17fe-4292-e16a-207112f27455"
      },
      "execution_count": null,
      "outputs": [
        {
          "output_type": "execute_result",
          "data": {
            "text/plain": [
              "         Category    Channel  Avg_Profit_Margin  Avg_Customer_Rating\n",
              "0       Beverages     Online          14.545455             3.693182\n",
              "1       Beverages     Retail          15.555556             3.791111\n",
              "2       Beverages  Wholesale          15.138889             3.877778\n",
              "3       Home Care     Online          15.833333             3.678571\n",
              "4       Home Care     Retail          14.883721             3.753488\n",
              "5       Home Care  Wholesale          14.361702             3.648936\n",
              "6   Personal Care     Online          15.533333             3.756667\n",
              "7   Personal Care     Retail          15.649351             3.722078\n",
              "8   Personal Care  Wholesale          14.411765             3.729412\n",
              "9          Snacks     Online          15.148515             3.648515\n",
              "10         Snacks     Retail          15.220588             3.669118\n",
              "11         Snacks  Wholesale          15.000000             3.655422"
            ],
            "text/html": [
              "\n",
              "  <div id=\"df-3778b91f-f139-4c03-a97b-6cc7e03986ba\" class=\"colab-df-container\">\n",
              "    <div>\n",
              "<style scoped>\n",
              "    .dataframe tbody tr th:only-of-type {\n",
              "        vertical-align: middle;\n",
              "    }\n",
              "\n",
              "    .dataframe tbody tr th {\n",
              "        vertical-align: top;\n",
              "    }\n",
              "\n",
              "    .dataframe thead th {\n",
              "        text-align: right;\n",
              "    }\n",
              "</style>\n",
              "<table border=\"1\" class=\"dataframe\">\n",
              "  <thead>\n",
              "    <tr style=\"text-align: right;\">\n",
              "      <th></th>\n",
              "      <th>Category</th>\n",
              "      <th>Channel</th>\n",
              "      <th>Avg_Profit_Margin</th>\n",
              "      <th>Avg_Customer_Rating</th>\n",
              "    </tr>\n",
              "  </thead>\n",
              "  <tbody>\n",
              "    <tr>\n",
              "      <th>0</th>\n",
              "      <td>Beverages</td>\n",
              "      <td>Online</td>\n",
              "      <td>14.545455</td>\n",
              "      <td>3.693182</td>\n",
              "    </tr>\n",
              "    <tr>\n",
              "      <th>1</th>\n",
              "      <td>Beverages</td>\n",
              "      <td>Retail</td>\n",
              "      <td>15.555556</td>\n",
              "      <td>3.791111</td>\n",
              "    </tr>\n",
              "    <tr>\n",
              "      <th>2</th>\n",
              "      <td>Beverages</td>\n",
              "      <td>Wholesale</td>\n",
              "      <td>15.138889</td>\n",
              "      <td>3.877778</td>\n",
              "    </tr>\n",
              "    <tr>\n",
              "      <th>3</th>\n",
              "      <td>Home Care</td>\n",
              "      <td>Online</td>\n",
              "      <td>15.833333</td>\n",
              "      <td>3.678571</td>\n",
              "    </tr>\n",
              "    <tr>\n",
              "      <th>4</th>\n",
              "      <td>Home Care</td>\n",
              "      <td>Retail</td>\n",
              "      <td>14.883721</td>\n",
              "      <td>3.753488</td>\n",
              "    </tr>\n",
              "    <tr>\n",
              "      <th>5</th>\n",
              "      <td>Home Care</td>\n",
              "      <td>Wholesale</td>\n",
              "      <td>14.361702</td>\n",
              "      <td>3.648936</td>\n",
              "    </tr>\n",
              "    <tr>\n",
              "      <th>6</th>\n",
              "      <td>Personal Care</td>\n",
              "      <td>Online</td>\n",
              "      <td>15.533333</td>\n",
              "      <td>3.756667</td>\n",
              "    </tr>\n",
              "    <tr>\n",
              "      <th>7</th>\n",
              "      <td>Personal Care</td>\n",
              "      <td>Retail</td>\n",
              "      <td>15.649351</td>\n",
              "      <td>3.722078</td>\n",
              "    </tr>\n",
              "    <tr>\n",
              "      <th>8</th>\n",
              "      <td>Personal Care</td>\n",
              "      <td>Wholesale</td>\n",
              "      <td>14.411765</td>\n",
              "      <td>3.729412</td>\n",
              "    </tr>\n",
              "    <tr>\n",
              "      <th>9</th>\n",
              "      <td>Snacks</td>\n",
              "      <td>Online</td>\n",
              "      <td>15.148515</td>\n",
              "      <td>3.648515</td>\n",
              "    </tr>\n",
              "    <tr>\n",
              "      <th>10</th>\n",
              "      <td>Snacks</td>\n",
              "      <td>Retail</td>\n",
              "      <td>15.220588</td>\n",
              "      <td>3.669118</td>\n",
              "    </tr>\n",
              "    <tr>\n",
              "      <th>11</th>\n",
              "      <td>Snacks</td>\n",
              "      <td>Wholesale</td>\n",
              "      <td>15.000000</td>\n",
              "      <td>3.655422</td>\n",
              "    </tr>\n",
              "  </tbody>\n",
              "</table>\n",
              "</div>\n",
              "    <div class=\"colab-df-buttons\">\n",
              "\n",
              "  <div class=\"colab-df-container\">\n",
              "    <button class=\"colab-df-convert\" onclick=\"convertToInteractive('df-3778b91f-f139-4c03-a97b-6cc7e03986ba')\"\n",
              "            title=\"Convert this dataframe to an interactive table.\"\n",
              "            style=\"display:none;\">\n",
              "\n",
              "  <svg xmlns=\"http://www.w3.org/2000/svg\" height=\"24px\" viewBox=\"0 -960 960 960\">\n",
              "    <path d=\"M120-120v-720h720v720H120Zm60-500h600v-160H180v160Zm220 220h160v-160H400v160Zm0 220h160v-160H400v160ZM180-400h160v-160H180v160Zm440 0h160v-160H620v160ZM180-180h160v-160H180v160Zm440 0h160v-160H620v160Z\"/>\n",
              "  </svg>\n",
              "    </button>\n",
              "\n",
              "  <style>\n",
              "    .colab-df-container {\n",
              "      display:flex;\n",
              "      gap: 12px;\n",
              "    }\n",
              "\n",
              "    .colab-df-convert {\n",
              "      background-color: #E8F0FE;\n",
              "      border: none;\n",
              "      border-radius: 50%;\n",
              "      cursor: pointer;\n",
              "      display: none;\n",
              "      fill: #1967D2;\n",
              "      height: 32px;\n",
              "      padding: 0 0 0 0;\n",
              "      width: 32px;\n",
              "    }\n",
              "\n",
              "    .colab-df-convert:hover {\n",
              "      background-color: #E2EBFA;\n",
              "      box-shadow: 0px 1px 2px rgba(60, 64, 67, 0.3), 0px 1px 3px 1px rgba(60, 64, 67, 0.15);\n",
              "      fill: #174EA6;\n",
              "    }\n",
              "\n",
              "    .colab-df-buttons div {\n",
              "      margin-bottom: 4px;\n",
              "    }\n",
              "\n",
              "    [theme=dark] .colab-df-convert {\n",
              "      background-color: #3B4455;\n",
              "      fill: #D2E3FC;\n",
              "    }\n",
              "\n",
              "    [theme=dark] .colab-df-convert:hover {\n",
              "      background-color: #434B5C;\n",
              "      box-shadow: 0px 1px 3px 1px rgba(0, 0, 0, 0.15);\n",
              "      filter: drop-shadow(0px 1px 2px rgba(0, 0, 0, 0.3));\n",
              "      fill: #FFFFFF;\n",
              "    }\n",
              "  </style>\n",
              "\n",
              "    <script>\n",
              "      const buttonEl =\n",
              "        document.querySelector('#df-3778b91f-f139-4c03-a97b-6cc7e03986ba button.colab-df-convert');\n",
              "      buttonEl.style.display =\n",
              "        google.colab.kernel.accessAllowed ? 'block' : 'none';\n",
              "\n",
              "      async function convertToInteractive(key) {\n",
              "        const element = document.querySelector('#df-3778b91f-f139-4c03-a97b-6cc7e03986ba');\n",
              "        const dataTable =\n",
              "          await google.colab.kernel.invokeFunction('convertToInteractive',\n",
              "                                                    [key], {});\n",
              "        if (!dataTable) return;\n",
              "\n",
              "        const docLinkHtml = 'Like what you see? Visit the ' +\n",
              "          '<a target=\"_blank\" href=https://colab.research.google.com/notebooks/data_table.ipynb>data table notebook</a>'\n",
              "          + ' to learn more about interactive tables.';\n",
              "        element.innerHTML = '';\n",
              "        dataTable['output_type'] = 'display_data';\n",
              "        await google.colab.output.renderOutput(dataTable, element);\n",
              "        const docLink = document.createElement('div');\n",
              "        docLink.innerHTML = docLinkHtml;\n",
              "        element.appendChild(docLink);\n",
              "      }\n",
              "    </script>\n",
              "  </div>\n",
              "\n",
              "\n",
              "<div id=\"df-cab5a6e8-ca19-4b48-847d-ae06ae577f18\">\n",
              "  <button class=\"colab-df-quickchart\" onclick=\"quickchart('df-cab5a6e8-ca19-4b48-847d-ae06ae577f18')\"\n",
              "            title=\"Suggest charts\"\n",
              "            style=\"display:none;\">\n",
              "\n",
              "<svg xmlns=\"http://www.w3.org/2000/svg\" height=\"24px\"viewBox=\"0 0 24 24\"\n",
              "     width=\"24px\">\n",
              "    <g>\n",
              "        <path d=\"M19 3H5c-1.1 0-2 .9-2 2v14c0 1.1.9 2 2 2h14c1.1 0 2-.9 2-2V5c0-1.1-.9-2-2-2zM9 17H7v-7h2v7zm4 0h-2V7h2v10zm4 0h-2v-4h2v4z\"/>\n",
              "    </g>\n",
              "</svg>\n",
              "  </button>\n",
              "\n",
              "<style>\n",
              "  .colab-df-quickchart {\n",
              "      --bg-color: #E8F0FE;\n",
              "      --fill-color: #1967D2;\n",
              "      --hover-bg-color: #E2EBFA;\n",
              "      --hover-fill-color: #174EA6;\n",
              "      --disabled-fill-color: #AAA;\n",
              "      --disabled-bg-color: #DDD;\n",
              "  }\n",
              "\n",
              "  [theme=dark] .colab-df-quickchart {\n",
              "      --bg-color: #3B4455;\n",
              "      --fill-color: #D2E3FC;\n",
              "      --hover-bg-color: #434B5C;\n",
              "      --hover-fill-color: #FFFFFF;\n",
              "      --disabled-bg-color: #3B4455;\n",
              "      --disabled-fill-color: #666;\n",
              "  }\n",
              "\n",
              "  .colab-df-quickchart {\n",
              "    background-color: var(--bg-color);\n",
              "    border: none;\n",
              "    border-radius: 50%;\n",
              "    cursor: pointer;\n",
              "    display: none;\n",
              "    fill: var(--fill-color);\n",
              "    height: 32px;\n",
              "    padding: 0;\n",
              "    width: 32px;\n",
              "  }\n",
              "\n",
              "  .colab-df-quickchart:hover {\n",
              "    background-color: var(--hover-bg-color);\n",
              "    box-shadow: 0 1px 2px rgba(60, 64, 67, 0.3), 0 1px 3px 1px rgba(60, 64, 67, 0.15);\n",
              "    fill: var(--button-hover-fill-color);\n",
              "  }\n",
              "\n",
              "  .colab-df-quickchart-complete:disabled,\n",
              "  .colab-df-quickchart-complete:disabled:hover {\n",
              "    background-color: var(--disabled-bg-color);\n",
              "    fill: var(--disabled-fill-color);\n",
              "    box-shadow: none;\n",
              "  }\n",
              "\n",
              "  .colab-df-spinner {\n",
              "    border: 2px solid var(--fill-color);\n",
              "    border-color: transparent;\n",
              "    border-bottom-color: var(--fill-color);\n",
              "    animation:\n",
              "      spin 1s steps(1) infinite;\n",
              "  }\n",
              "\n",
              "  @keyframes spin {\n",
              "    0% {\n",
              "      border-color: transparent;\n",
              "      border-bottom-color: var(--fill-color);\n",
              "      border-left-color: var(--fill-color);\n",
              "    }\n",
              "    20% {\n",
              "      border-color: transparent;\n",
              "      border-left-color: var(--fill-color);\n",
              "      border-top-color: var(--fill-color);\n",
              "    }\n",
              "    30% {\n",
              "      border-color: transparent;\n",
              "      border-left-color: var(--fill-color);\n",
              "      border-top-color: var(--fill-color);\n",
              "      border-right-color: var(--fill-color);\n",
              "    }\n",
              "    40% {\n",
              "      border-color: transparent;\n",
              "      border-right-color: var(--fill-color);\n",
              "      border-top-color: var(--fill-color);\n",
              "    }\n",
              "    60% {\n",
              "      border-color: transparent;\n",
              "      border-right-color: var(--fill-color);\n",
              "    }\n",
              "    80% {\n",
              "      border-color: transparent;\n",
              "      border-right-color: var(--fill-color);\n",
              "      border-bottom-color: var(--fill-color);\n",
              "    }\n",
              "    90% {\n",
              "      border-color: transparent;\n",
              "      border-bottom-color: var(--fill-color);\n",
              "    }\n",
              "  }\n",
              "</style>\n",
              "\n",
              "  <script>\n",
              "    async function quickchart(key) {\n",
              "      const quickchartButtonEl =\n",
              "        document.querySelector('#' + key + ' button');\n",
              "      quickchartButtonEl.disabled = true;  // To prevent multiple clicks.\n",
              "      quickchartButtonEl.classList.add('colab-df-spinner');\n",
              "      try {\n",
              "        const charts = await google.colab.kernel.invokeFunction(\n",
              "            'suggestCharts', [key], {});\n",
              "      } catch (error) {\n",
              "        console.error('Error during call to suggestCharts:', error);\n",
              "      }\n",
              "      quickchartButtonEl.classList.remove('colab-df-spinner');\n",
              "      quickchartButtonEl.classList.add('colab-df-quickchart-complete');\n",
              "    }\n",
              "    (() => {\n",
              "      let quickchartButtonEl =\n",
              "        document.querySelector('#df-cab5a6e8-ca19-4b48-847d-ae06ae577f18 button');\n",
              "      quickchartButtonEl.style.display =\n",
              "        google.colab.kernel.accessAllowed ? 'block' : 'none';\n",
              "    })();\n",
              "  </script>\n",
              "</div>\n",
              "\n",
              "  <div id=\"id_7097fbe1-f092-43fa-9a6f-88ef46181d09\">\n",
              "    <style>\n",
              "      .colab-df-generate {\n",
              "        background-color: #E8F0FE;\n",
              "        border: none;\n",
              "        border-radius: 50%;\n",
              "        cursor: pointer;\n",
              "        display: none;\n",
              "        fill: #1967D2;\n",
              "        height: 32px;\n",
              "        padding: 0 0 0 0;\n",
              "        width: 32px;\n",
              "      }\n",
              "\n",
              "      .colab-df-generate:hover {\n",
              "        background-color: #E2EBFA;\n",
              "        box-shadow: 0px 1px 2px rgba(60, 64, 67, 0.3), 0px 1px 3px 1px rgba(60, 64, 67, 0.15);\n",
              "        fill: #174EA6;\n",
              "      }\n",
              "\n",
              "      [theme=dark] .colab-df-generate {\n",
              "        background-color: #3B4455;\n",
              "        fill: #D2E3FC;\n",
              "      }\n",
              "\n",
              "      [theme=dark] .colab-df-generate:hover {\n",
              "        background-color: #434B5C;\n",
              "        box-shadow: 0px 1px 3px 1px rgba(0, 0, 0, 0.15);\n",
              "        filter: drop-shadow(0px 1px 2px rgba(0, 0, 0, 0.3));\n",
              "        fill: #FFFFFF;\n",
              "      }\n",
              "    </style>\n",
              "    <button class=\"colab-df-generate\" onclick=\"generateWithVariable('df')\"\n",
              "            title=\"Generate code using this dataframe.\"\n",
              "            style=\"display:none;\">\n",
              "\n",
              "  <svg xmlns=\"http://www.w3.org/2000/svg\" height=\"24px\"viewBox=\"0 0 24 24\"\n",
              "       width=\"24px\">\n",
              "    <path d=\"M7,19H8.4L18.45,9,17,7.55,7,17.6ZM5,21V16.75L18.45,3.32a2,2,0,0,1,2.83,0l1.4,1.43a1.91,1.91,0,0,1,.58,1.4,1.91,1.91,0,0,1-.58,1.4L9.25,21ZM18.45,9,17,7.55Zm-12,3A5.31,5.31,0,0,0,4.9,8.1,5.31,5.31,0,0,0,1,6.5,5.31,5.31,0,0,0,4.9,4.9,5.31,5.31,0,0,0,6.5,1,5.31,5.31,0,0,0,8.1,4.9,5.31,5.31,0,0,0,12,6.5,5.46,5.46,0,0,0,6.5,12Z\"/>\n",
              "  </svg>\n",
              "    </button>\n",
              "    <script>\n",
              "      (() => {\n",
              "      const buttonEl =\n",
              "        document.querySelector('#id_7097fbe1-f092-43fa-9a6f-88ef46181d09 button.colab-df-generate');\n",
              "      buttonEl.style.display =\n",
              "        google.colab.kernel.accessAllowed ? 'block' : 'none';\n",
              "\n",
              "      buttonEl.onclick = () => {\n",
              "        google.colab.notebook.generateWithVariable('df');\n",
              "      }\n",
              "      })();\n",
              "    </script>\n",
              "  </div>\n",
              "\n",
              "    </div>\n",
              "  </div>\n"
            ],
            "application/vnd.google.colaboratory.intrinsic+json": {
              "type": "dataframe",
              "variable_name": "df",
              "summary": "{\n  \"name\": \"df\",\n  \"rows\": 12,\n  \"fields\": [\n    {\n      \"column\": \"Category\",\n      \"properties\": {\n        \"dtype\": \"category\",\n        \"num_unique_values\": 4,\n        \"samples\": [\n          \"Home Care\",\n          \"Snacks\",\n          \"Beverages\"\n        ],\n        \"semantic_type\": \"\",\n        \"description\": \"\"\n      }\n    },\n    {\n      \"column\": \"Channel\",\n      \"properties\": {\n        \"dtype\": \"category\",\n        \"num_unique_values\": 3,\n        \"samples\": [\n          \"Online\",\n          \"Retail\",\n          \"Wholesale\"\n        ],\n        \"semantic_type\": \"\",\n        \"description\": \"\"\n      }\n    },\n    {\n      \"column\": \"Avg_Profit_Margin\",\n      \"properties\": {\n        \"dtype\": \"number\",\n        \"std\": 0.48950492728323763,\n        \"min\": 14.361702127659576,\n        \"max\": 15.833333333333334,\n        \"num_unique_values\": 12,\n        \"samples\": [\n          15.220588235294118,\n          15.148514851485148,\n          14.545454545454543\n        ],\n        \"semantic_type\": \"\",\n        \"description\": \"\"\n      }\n    },\n    {\n      \"column\": \"Avg_Customer_Rating\",\n      \"properties\": {\n        \"dtype\": \"number\",\n        \"std\": 0.06865191484335786,\n        \"min\": 3.6485148514851495,\n        \"max\": 3.8777777777777778,\n        \"num_unique_values\": 12,\n        \"samples\": [\n          3.669117647058824,\n          3.6485148514851495,\n          3.6931818181818175\n        ],\n        \"semantic_type\": \"\",\n        \"description\": \"\"\n      }\n    }\n  ]\n}"
            }
          },
          "metadata": {},
          "execution_count": 58
        }
      ]
    },
    {
      "cell_type": "markdown",
      "source": [
        "**Feature Selection & Preprocessing**"
      ],
      "metadata": {
        "id": "a-15Q9k6YDWN"
      }
    },
    {
      "cell_type": "code",
      "source": [
        "features = df[['Avg_Profit_Margin', 'Avg_Customer_Rating']]\n",
        "\n",
        "# Normalize the features\n",
        "scaler = StandardScaler()\n",
        "features_scaled = scaler.fit_transform(features)\n"
      ],
      "metadata": {
        "id": "JkVpaKo9X-CJ"
      },
      "execution_count": null,
      "outputs": []
    },
    {
      "cell_type": "markdown",
      "source": [
        "**Model Training- using K-means Clustering**"
      ],
      "metadata": {
        "id": "T235jRMSYXpN"
      }
    },
    {
      "cell_type": "code",
      "source": [
        "# Use the elbow method to find the optimal number of clusters\n",
        "inertia = []\n",
        "for k in range(1, 10):\n",
        "    kmeans = KMeans(n_clusters=k, random_state=42)\n",
        "    kmeans.fit(features_scaled)\n",
        "    inertia.append(kmeans.inertia_)\n",
        "\n",
        "# Plot to find the elbow\n",
        "plt.plot(range(1, 10), inertia, marker='o')\n",
        "plt.title('Elbow Method for Optimal Clusters')\n",
        "plt.xlabel('Number of Clusters')\n",
        "plt.ylabel('Inertia')\n",
        "plt.show()\n"
      ],
      "metadata": {
        "colab": {
          "base_uri": "https://localhost:8080/",
          "height": 472
        },
        "id": "tWoKQnYmYfmC",
        "outputId": "39b70fc9-095d-4c5b-dfe9-1da0cc6eab52"
      },
      "execution_count": null,
      "outputs": [
        {
          "output_type": "display_data",
          "data": {
            "text/plain": [
              "<Figure size 640x480 with 1 Axes>"
            ],
            "image/png": "[encoded data removed]"
          },
          "metadata": {}
        }
      ]
    },
    {
      "cell_type": "code",
      "source": [
        "## Once you choose the optimal number of clusters (say 3), you can train the model:\n",
        "\n",
        "kmeans = KMeans(n_clusters=3, random_state=42)\n",
        "df['Cluster'] = kmeans.fit_predict(features_scaled)\n"
      ],
      "metadata": {
        "id": "-1jLzsXeYl5n"
      },
      "execution_count": null,
      "outputs": []
    },
    {
      "cell_type": "markdown",
      "source": [
        "**Interpreting the Results**"
      ],
      "metadata": {
        "id": "ox_eDowYY3dj"
      }
    },
    {
      "cell_type": "code",
      "source": [
        "for cluster in df['Cluster'].unique():\n",
        "    print(f\"\\nCluster {cluster}\")\n",
        "    print(df[df['Cluster'] == cluster])\n"
      ],
      "metadata": {
        "colab": {
          "base_uri": "https://localhost:8080/"
        },
        "id": "unRFn57FY8_Q",
        "outputId": "2c1a28d2-2489-4020-a40a-679111b893d8"
      },
      "execution_count": null,
      "outputs": [
        {
          "output_type": "stream",
          "name": "stdout",
          "text": [
            "\n",
            "Cluster 0\n",
            "        Category    Channel  Avg_Profit_Margin  Avg_Customer_Rating  Cluster\n",
            "0      Beverages     Online          14.545455             3.693182        0\n",
            "4      Home Care     Retail          14.883721             3.753488        0\n",
            "8  Personal Care  Wholesale          14.411765             3.729412        0\n",
            "\n",
            "Cluster 2\n",
            "        Category    Channel  Avg_Profit_Margin  Avg_Customer_Rating  Cluster\n",
            "1      Beverages     Retail          15.555556             3.791111        2\n",
            "2      Beverages  Wholesale          15.138889             3.877778        2\n",
            "3      Home Care     Online          15.833333             3.678571        2\n",
            "6  Personal Care     Online          15.533333             3.756667        2\n",
            "7  Personal Care     Retail          15.649351             3.722078        2\n",
            "\n",
            "Cluster 1\n",
            "     Category    Channel  Avg_Profit_Margin  Avg_Customer_Rating  Cluster\n",
            "5   Home Care  Wholesale          14.361702             3.648936        1\n",
            "9      Snacks     Online          15.148515             3.648515        1\n",
            "10     Snacks     Retail          15.220588             3.669118        1\n",
            "11     Snacks  Wholesale          15.000000             3.655422        1\n"
          ]
        }
      ]
    },
    {
      "cell_type": "markdown",
      "source": [
        "**Cluster-Wise Interpretation:**\n",
        "\n",
        "**Cluster 0: Consistently Moderate:**\n",
        "\n",
        "📌 **Insight:**\n",
        "This cluster includes channels with moderate profit margins and decent customer ratings, all hovering close to 14.5% profit and 3.7 rating.\n",
        "\n",
        "These channels are stable performers—not exceptional, but reliable.\n",
        "\n",
        "Could serve as baseline options with low volatility/risk.\n",
        "\n",
        "✅ Strategy:\n",
        "Consider these for sustaining product lines, or when testing new SKUs with minimal risk.\n",
        "\n",
        "Try increasing promotions to boost either profit or ratings.\n",
        "\n",
        "\n",
        "\n",
        "**Cluster 1: Lower Rating Risk**\n",
        "📌 **Insight:**\n",
        "These channels have decent profit margins (~15%), but slightly lower customer ratings (~3.65).\n",
        "\n",
        "Dominated by snack products, especially in wholesale and online settings.\n",
        "\n",
        "⚠️ **Strategy:**\n",
        "Could be profitable but underwhelming in experience—maybe due to packaging, delivery, or branding.\n",
        "\n",
        "Focus on customer engagement improvements here—sampling, better labeling, customer service, etc.\n",
        "\n",
        "**Cluster 2: High Performers**\n",
        "📌 **Insight:**\n",
        "This cluster has the highest profit margins and relatively high ratings, especially in beverages and personal care.\n",
        "\n",
        "Most channels are retail and online, meaning they are accessible and scalable.\n",
        "\n",
        "✅ **Strategy:**\n",
        "These are ideal channels for launching new products, especially if you’re aiming for profitability + customer satisfaction.\n",
        "\n",
        "Double down on these—invest in ads, shelf space, influencer tie-ups, etc.\n",
        "\n"
      ],
      "metadata": {
        "id": "JNWJ9r_OZtDP"
      }
    },
    {
      "cell_type": "markdown",
      "source": [
        "** Builded Recommendation Function Template **"
      ],
      "metadata": {
        "id": "KKVoKQzuZFgg"
      }
    },
    {
      "cell_type": "code",
      "source": [
        "def recommend_best_channels(df, top_n=3):\n",
        "    # Sort by both metrics\n",
        "    return df.sort_values(by=['Avg_Profit_Margin', 'Avg_Customer_Rating'], ascending=False).head(top_n)\n",
        "\n",
        "top_channels = recommend_best_channels(df)\n",
        "print(top_channels)\n"
      ],
      "metadata": {
        "colab": {
          "base_uri": "https://localhost:8080/"
        },
        "id": "I20SmnuxZVT7",
        "outputId": "ae05d05f-4de1-4a20-f50c-051e33dd073a"
      },
      "execution_count": null,
      "outputs": [
        {
          "output_type": "stream",
          "name": "stdout",
          "text": [
            "        Category Channel  Avg_Profit_Margin  Avg_Customer_Rating  Cluster\n",
            "3      Home Care  Online          15.833333             3.678571        2\n",
            "7  Personal Care  Retail          15.649351             3.722078        2\n",
            "1      Beverages  Retail          15.555556             3.791111        2\n"
          ]
        }
      ]
    },
    {
      "cell_type": "markdown",
      "source": [
        "**Scaling this Analysis in near Future:**"
      ],
      "metadata": {
        "id": "tMZv7pLpae5c"
      }
    },
    {
      "cell_type": "code",
      "source": [
        "import pandas as pd\n",
        "from sklearn.preprocessing import StandardScaler\n",
        "from sklearn.cluster import KMeans\n",
        "\n",
        "def recommend_channels(file_path='/content/cleaned_channel_profitability.csv', top_n=5, cluster_focus='top'):\n",
        "    \"\"\"\n",
        "    Load cleaned channel data, perform clustering, and recommend top channels.\n",
        "\n",
        "    Parameters:\n",
        "    - file_path: path to the cleaned CSV file\n",
        "    - top_n: number of top recommendations\n",
        "    - cluster_focus: 'top' for high performers, 'all' for global ranking\n",
        "\n",
        "    Returns:\n",
        "    - DataFrame of recommended channels\n",
        "    \"\"\"\n",
        "\n",
        "    # Load the data\n",
        "    df = pd.read_csv('/content/cleaned_channel_profitability.csv')\n",
        "\n",
        "    # Feature scaling\n",
        "    features = df[['Avg_Profit_Margin', 'Avg_Customer_Rating']]\n",
        "    scaler = StandardScaler()\n",
        "    features_scaled = scaler.fit_transform(features)\n",
        "\n",
        "    # Clustering\n",
        "    kmeans = KMeans(n_clusters=3, random_state=42)\n",
        "    df['Cluster'] = kmeans.fit_predict(features_scaled)\n",
        "\n",
        "    # Determine cluster ranking based on average profit + rating\n",
        "    cluster_scores = df.groupby('Cluster')[['Avg_Profit_Margin', 'Avg_Customer_Rating']].mean()\n",
        "    cluster_scores['Total_Score'] = cluster_scores.sum(axis=1)\n",
        "    ranked_clusters = cluster_scores.sort_values(by='Total_Score', ascending=False).index.tolist()\n",
        "\n",
        "    # Filter based on top cluster if specified\n",
        "    if cluster_focus == 'top':\n",
        "        top_cluster = ranked_clusters[0]\n",
        "        df_filtered = df[df['Cluster'] == top_cluster]\n",
        "    else:\n",
        "        df_filtered = df.copy()\n",
        "\n",
        "    # Recommend top N based on profit and rating\n",
        "    recommended = df_filtered.sort_values(\n",
        "        by=['Avg_Profit_Margin', 'Avg_Customer_Rating'],\n",
        "        ascending=False\n",
        "    ).head(top_n)\n",
        "\n",
        "    return recommended\n"
      ],
      "metadata": {
        "id": "b4dUNENTbIVL"
      },
      "execution_count": null,
      "outputs": []
    },
    {
      "cell_type": "markdown",
      "source": [
        "✅ **Goal:**\n",
        "Build a function that:\n",
        "\n",
        "Re-loads and preprocesses our cleaned data.\n",
        "\n",
        "Performs clustering or scoring.\n",
        "\n",
        "Recommends the best channels based on profitability and customer rating.\n",
        "\n",
        "Can be reused for future analysis as new data is added.\n",
        "\n"
      ],
      "metadata": {
        "id": "3D9BVslZcIrm"
      }
    },
    {
      "cell_type": "markdown",
      "source": [
        "**Actionable Steps to take for Cluster 0 to improve Profitability**\n"
      ],
      "metadata": {
        "id": "Lz-eaKRcmARh"
      }
    },
    {
      "cell_type": "code",
      "source": [
        "import plotly.graph_objects as go\n",
        "\n",
        "fig = go.Figure(data=[go.Table(\n",
        "    header=dict(values=list(cluster0_table.columns),\n",
        "                fill_color='paleturquoise',\n",
        "                align='left'),\n",
        "    cells=dict(values=[cluster0_table[col] for col in cluster0_table.columns],\n",
        "               fill_color='lavender',\n",
        "               align='left'))\n",
        "])\n",
        "\n",
        "fig.update_layout(title=\"Cluster 0 - Actionable Insights Table\")\n",
        "fig.show()\n"
      ],
      "metadata": {
        "colab": {
          "base_uri": "https://localhost:8080/",
          "height": 542
        },
        "id": "ES2eGwIwm0yI",
        "outputId": "adadf4c4-1fc2-44d2-f6e6-1a606d488332"
      },
      "execution_count": null,
      "outputs": [
        {
          "output_type": "display_data",
          "data": {
            "text/html": [
              "<html>\n",
              "<head><meta charset=\"utf-8\" /></head>\n",
              "<body>\n",
              "    <div>            <script src=\"https://cdnjs.cloudflare.com/ajax/libs/mathjax/2.7.5/MathJax.js?config=TeX-AMS-MML_SVG\"></script><script type=\"text/javascript\">if (window.MathJax && window.MathJax.Hub && window.MathJax.Hub.Config) {window.MathJax.Hub.Config({SVG: {font: \"STIX-Web\"}});}</script>                <script type=\"text/javascript\">window.PlotlyConfig = {MathJaxConfig: 'local'};</script>\n",
              "        <script charset=\"utf-8\" src=\"https://cdn.plot.ly/plotly-2.35.2.min.js\"></script>                <div id=\"31b593f4-74f3-414e-95be-87139111e986\" class=\"plotly-graph-div\" style=\"height:525px; width:100%;\"></div>            <script type=\"text/javascript\">                                    window.PLOTLYENV=window.PLOTLYENV || {};                                    if (document.getElementById(\"31b593f4-74f3-414e-95be-87139111e986\")) {                    Plotly.newPlot(                        \"31b593f4-74f3-414e-95be-87139111e986\",                        [{\"cells\":{\"align\":\"left\",\"fill\":{\"color\":\"lavender\"},\"values\":[[\"Beverages\",\"Home Care\",\"Personal Care\"],[\"Online\",\"Retail\",\"Wholesale\"],[14.55,14.88,14.41],[3.69,3.75,3.73],[\"Moderate margin, low satisfaction\",\"Highest margin in the cluster, but average ratings\",\"Good margin, but ratings could be better\"],[\"Improve product descriptions, enhance visuals, and add bundling offers. Consider live chat support.\",\"Train retail staff, offer loyalty incentives, and use shelf talkers to educate customers.\",\"Educate B2B buyers (salons, spas), offer sampler kits, and gather structured feedback.\"]]},\"header\":{\"align\":\"left\",\"fill\":{\"color\":\"paleturquoise\"},\"values\":[\"Category\",\"Channel\",\"Avg. Profit Margin (%)\",\"Avg. Customer Rating (\\u002f5)\",\"Observations\",\"Actionable Insights\"]},\"type\":\"table\"}],                        {\"template\":{\"data\":{\"histogram2dcontour\":[{\"type\":\"histogram2dcontour\",\"colorbar\":{\"outlinewidth\":0,\"ticks\":\"\"},\"colorscale\":[[0.0,\"#0d0887\"],[0.1111111111111111,\"#46039f\"],[0.2222222222222222,\"#7201a8\"],[0.3333333333333333,\"#9c179e\"],[0.4444444444444444,\"#bd3786\"],[0.5555555555555556,\"#d8576b\"],[0.6666666666666666,\"#ed7953\"],[0.7777777777777778,\"#fb9f3a\"],[0.8888888888888888,\"#fdca26\"],[1.0,\"#f0f921\"]]}],\"choropleth\":[{\"type\":\"choropleth\",\"colorbar\":{\"outlinewidth\":0,\"ticks\":\"\"}}],\"histogram2d\":[{\"type\":\"histogram2d\",\"colorbar\":{\"outlinewidth\":0,\"ticks\":\"\"},\"colorscale\":[[0.0,\"#0d0887\"],[0.1111111111111111,\"#46039f\"],[0.2222222222222222,\"#7201a8\"],[0.3333333333333333,\"#9c179e\"],[0.4444444444444444,\"#bd3786\"],[0.5555555555555556,\"#d8576b\"],[0.6666666666666666,\"#ed7953\"],[0.7777777777777778,\"#fb9f3a\"],[0.8888888888888888,\"#fdca26\"],[1.0,\"#f0f921\"]]}],\"heatmap\":[{\"type\":\"heatmap\",\"colorbar\":{\"outlinewidth\":0,\"ticks\":\"\"},\"colorscale\":[[0.0,\"#0d0887\"],[0.1111111111111111,\"#46039f\"],[0.2222222222222222,\"#7201a8\"],[0.3333333333333333,\"#9c179e\"],[0.4444444444444444,\"#bd3786\"],[0.5555555555555556,\"#d8576b\"],[0.6666666666666666,\"#ed7953\"],[0.7777777777777778,\"#fb9f3a\"],[0.8888888888888888,\"#fdca26\"],[1.0,\"#f0f921\"]]}],\"heatmapgl\":[{\"type\":\"heatmapgl\",\"colorbar\":{\"outlinewidth\":0,\"ticks\":\"\"},\"colorscale\":[[0.0,\"#0d0887\"],[0.1111111111111111,\"#46039f\"],[0.2222222222222222,\"#7201a8\"],[0.3333333333333333,\"#9c179e\"],[0.4444444444444444,\"#bd3786\"],[0.5555555555555556,\"#d8576b\"],[0.6666666666666666,\"#ed7953\"],[0.7777777777777778,\"#fb9f3a\"],[0.8888888888888888,\"#fdca26\"],[1.0,\"#f0f921\"]]}],\"contourcarpet\":[{\"type\":\"contourcarpet\",\"colorbar\":{\"outlinewidth\":0,\"ticks\":\"\"}}],\"contour\":[{\"type\":\"contour\",\"colorbar\":{\"outlinewidth\":0,\"ticks\":\"\"},\"colorscale\":[[0.0,\"#0d0887\"],[0.1111111111111111,\"#46039f\"],[0.2222222222222222,\"#7201a8\"],[0.3333333333333333,\"#9c179e\"],[0.4444444444444444,\"#bd3786\"],[0.5555555555555556,\"#d8576b\"],[0.6666666666666666,\"#ed7953\"],[0.7777777777777778,\"#fb9f3a\"],[0.8888888888888888,\"#fdca26\"],[1.0,\"#f0f921\"]]}],\"surface\":[{\"type\":\"surface\",\"colorbar\":{\"outlinewidth\":0,\"ticks\":\"\"},\"colorscale\":[[0.0,\"#0d0887\"],[0.1111111111111111,\"#46039f\"],[0.2222222222222222,\"#7201a8\"],[0.3333333333333333,\"#9c179e\"],[0.4444444444444444,\"#bd3786\"],[0.5555555555555556,\"#d8576b\"],[0.6666666666666666,\"#ed7953\"],[0.7777777777777778,\"#fb9f3a\"],[0.8888888888888888,\"#fdca26\"],[1.0,\"#f0f921\"]]}],\"mesh3d\":[{\"type\":\"mesh3d\",\"colorbar\":{\"outlinewidth\":0,\"ticks\":\"\"}}],\"scatter\":[{\"fillpattern\":{\"fillmode\":\"overlay\",\"size\":10,\"solidity\":0.2},\"type\":\"scatter\"}],\"parcoords\":[{\"type\":\"parcoords\",\"line\":{\"colorbar\":{\"outlinewidth\":0,\"ticks\":\"\"}}}],\"scatterpolargl\":[{\"type\":\"scatterpolargl\",\"marker\":{\"colorbar\":{\"outlinewidth\":0,\"ticks\":\"\"}}}],\"bar\":[{\"error_x\":{\"color\":\"#2a3f5f\"},\"error_y\":{\"color\":\"#2a3f5f\"},\"marker\":{\"line\":{\"color\":\"#E5ECF6\",\"width\":0.5},\"pattern\":{\"fillmode\":\"overlay\",\"size\":10,\"solidity\":0.2}},\"type\":\"bar\"}],\"scattergeo\":[{\"type\":\"scattergeo\",\"marker\":{\"colorbar\":{\"outlinewidth\":0,\"ticks\":\"\"}}}],\"scatterpolar\":[{\"type\":\"scatterpolar\",\"marker\":{\"colorbar\":{\"outlinewidth\":0,\"ticks\":\"\"}}}],\"histogram\":[{\"marker\":{\"pattern\":{\"fillmode\":\"overlay\",\"size\":10,\"solidity\":0.2}},\"type\":\"histogram\"}],\"scattergl\":[{\"type\":\"scattergl\",\"marker\":{\"colorbar\":{\"outlinewidth\":0,\"ticks\":\"\"}}}],\"scatter3d\":[{\"type\":\"scatter3d\",\"line\":{\"colorbar\":{\"outlinewidth\":0,\"ticks\":\"\"}},\"marker\":{\"colorbar\":{\"outlinewidth\":0,\"ticks\":\"\"}}}],\"scattermapbox\":[{\"type\":\"scattermapbox\",\"marker\":{\"colorbar\":{\"outlinewidth\":0,\"ticks\":\"\"}}}],\"scatterternary\":[{\"type\":\"scatterternary\",\"marker\":{\"colorbar\":{\"outlinewidth\":0,\"ticks\":\"\"}}}],\"scattercarpet\":[{\"type\":\"scattercarpet\",\"marker\":{\"colorbar\":{\"outlinewidth\":0,\"ticks\":\"\"}}}],\"carpet\":[{\"aaxis\":{\"endlinecolor\":\"#2a3f5f\",\"gridcolor\":\"white\",\"linecolor\":\"white\",\"minorgridcolor\":\"white\",\"startlinecolor\":\"#2a3f5f\"},\"baxis\":{\"endlinecolor\":\"#2a3f5f\",\"gridcolor\":\"white\",\"linecolor\":\"white\",\"minorgridcolor\":\"white\",\"startlinecolor\":\"#2a3f5f\"},\"type\":\"carpet\"}],\"table\":[{\"cells\":{\"fill\":{\"color\":\"#EBF0F8\"},\"line\":{\"color\":\"white\"}},\"header\":{\"fill\":{\"color\":\"#C8D4E3\"},\"line\":{\"color\":\"white\"}},\"type\":\"table\"}],\"barpolar\":[{\"marker\":{\"line\":{\"color\":\"#E5ECF6\",\"width\":0.5},\"pattern\":{\"fillmode\":\"overlay\",\"size\":10,\"solidity\":0.2}},\"type\":\"barpolar\"}],\"pie\":[{\"automargin\":true,\"type\":\"pie\"}]},\"layout\":{\"autotypenumbers\":\"strict\",\"colorway\":[\"#636efa\",\"#EF553B\",\"#00cc96\",\"#ab63fa\",\"#FFA15A\",\"#19d3f3\",\"#FF6692\",\"#B6E880\",\"#FF97FF\",\"#FECB52\"],\"font\":{\"color\":\"#2a3f5f\"},\"hovermode\":\"closest\",\"hoverlabel\":{\"align\":\"left\"},\"paper_bgcolor\":\"white\",\"plot_bgcolor\":\"#E5ECF6\",\"polar\":{\"bgcolor\":\"#E5ECF6\",\"angularaxis\":{\"gridcolor\":\"white\",\"linecolor\":\"white\",\"ticks\":\"\"},\"radialaxis\":{\"gridcolor\":\"white\",\"linecolor\":\"white\",\"ticks\":\"\"}},\"ternary\":{\"bgcolor\":\"#E5ECF6\",\"aaxis\":{\"gridcolor\":\"white\",\"linecolor\":\"white\",\"ticks\":\"\"},\"baxis\":{\"gridcolor\":\"white\",\"linecolor\":\"white\",\"ticks\":\"\"},\"caxis\":{\"gridcolor\":\"white\",\"linecolor\":\"white\",\"ticks\":\"\"}},\"coloraxis\":{\"colorbar\":{\"outlinewidth\":0,\"ticks\":\"\"}},\"colorscale\":{\"sequential\":[[0.0,\"#0d0887\"],[0.1111111111111111,\"#46039f\"],[0.2222222222222222,\"#7201a8\"],[0.3333333333333333,\"#9c179e\"],[0.4444444444444444,\"#bd3786\"],[0.5555555555555556,\"#d8576b\"],[0.6666666666666666,\"#ed7953\"],[0.7777777777777778,\"#fb9f3a\"],[0.8888888888888888,\"#fdca26\"],[1.0,\"#f0f921\"]],\"sequentialminus\":[[0.0,\"#0d0887\"],[0.1111111111111111,\"#46039f\"],[0.2222222222222222,\"#7201a8\"],[0.3333333333333333,\"#9c179e\"],[0.4444444444444444,\"#bd3786\"],[0.5555555555555556,\"#d8576b\"],[0.6666666666666666,\"#ed7953\"],[0.7777777777777778,\"#fb9f3a\"],[0.8888888888888888,\"#fdca26\"],[1.0,\"#f0f921\"]],\"diverging\":[[0,\"#8e0152\"],[0.1,\"#c51b7d\"],[0.2,\"#de77ae\"],[0.3,\"#f1b6da\"],[0.4,\"#fde0ef\"],[0.5,\"#f7f7f7\"],[0.6,\"#e6f5d0\"],[0.7,\"#b8e186\"],[0.8,\"#7fbc41\"],[0.9,\"#4d9221\"],[1,\"#276419\"]]},\"xaxis\":{\"gridcolor\":\"white\",\"linecolor\":\"white\",\"ticks\":\"\",\"title\":{\"standoff\":15},\"zerolinecolor\":\"white\",\"automargin\":true,\"zerolinewidth\":2},\"yaxis\":{\"gridcolor\":\"white\",\"linecolor\":\"white\",\"ticks\":\"\",\"title\":{\"standoff\":15},\"zerolinecolor\":\"white\",\"automargin\":true,\"zerolinewidth\":2},\"scene\":{\"xaxis\":{\"backgroundcolor\":\"#E5ECF6\",\"gridcolor\":\"white\",\"linecolor\":\"white\",\"showbackground\":true,\"ticks\":\"\",\"zerolinecolor\":\"white\",\"gridwidth\":2},\"yaxis\":{\"backgroundcolor\":\"#E5ECF6\",\"gridcolor\":\"white\",\"linecolor\":\"white\",\"showbackground\":true,\"ticks\":\"\",\"zerolinecolor\":\"white\",\"gridwidth\":2},\"zaxis\":{\"backgroundcolor\":\"#E5ECF6\",\"gridcolor\":\"white\",\"linecolor\":\"white\",\"showbackground\":true,\"ticks\":\"\",\"zerolinecolor\":\"white\",\"gridwidth\":2}},\"shapedefaults\":{\"line\":{\"color\":\"#2a3f5f\"}},\"annotationdefaults\":{\"arrowcolor\":\"#2a3f5f\",\"arrowhead\":0,\"arrowwidth\":1},\"geo\":{\"bgcolor\":\"white\",\"landcolor\":\"#E5ECF6\",\"subunitcolor\":\"white\",\"showland\":true,\"showlakes\":true,\"lakecolor\":\"white\"},\"title\":{\"x\":0.05},\"mapbox\":{\"style\":\"light\"}}},\"title\":{\"text\":\"Cluster 0 - Actionable Insights Table\"}},                        {\"responsive\": true}                    ).then(function(){\n",
              "                            \n",
              "var gd = document.getElementById('31b593f4-74f3-414e-95be-87139111e986');\n",
              "var x = new MutationObserver(function (mutations, observer) {{\n",
              "        var display = window.getComputedStyle(gd).display;\n",
              "        if (!display || display === 'none') {{\n",
              "            console.log([gd, 'removed!']);\n",
              "            Plotly.purge(gd);\n",
              "            observer.disconnect();\n",
              "        }}\n",
              "}});\n",
              "\n",
              "// Listen for the removal of the full notebook cells\n",
              "var notebookContainer = gd.closest('#notebook-container');\n",
              "if (notebookContainer) {{\n",
              "    x.observe(notebookContainer, {childList: true});\n",
              "}}\n",
              "\n",
              "// Listen for the clearing of the current output cell\n",
              "var outputEl = gd.closest('.output');\n",
              "if (outputEl) {{\n",
              "    x.observe(outputEl, {childList: true});\n",
              "}}\n",
              "\n",
              "                        })                };                            </script>        </div>\n",
              "</body>\n",
              "</html>"
            ]
          },
          "metadata": {}
        }
      ]
    }
  ]
}